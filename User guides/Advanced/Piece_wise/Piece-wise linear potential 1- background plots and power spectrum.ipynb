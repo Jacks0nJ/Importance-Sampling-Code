{
 "cells": [
  {
   "cell_type": "markdown",
   "metadata": {},
   "source": [
    "# Piece-wise linear potential 1 - background plots and power spectrum\n",
    "\n",
    "This is the first in a series of notebooks which will run importance sampling for the Piece-wise linear potential. It is commended the reading is familair with\n",
    "- [Importance sampling](https://arxiv.org/abs/2206.11234).\n",
    "- How to simulate the linear Sasaki-Mukhanov mode equation in inflation. \n",
    "- The [PyFPT user guides](https://github.com/Jacks0nJ/PyFPT/tree/main/User%20guides).\n",
    "\n",
    "These Notebooks are simply meant to make all of the 2D results reproducible and are minimal in details.\n",
    "\n",
    "In this notebook the background dynamics will be simulated and the power spectrum found.\n",
    "\n",
    "Throughout natural units with $c = 8\\pi M_{\\rm PL} = \\hbar =1$ are used."
   ]
  },
  {
   "cell_type": "code",
   "execution_count": 1,
   "metadata": {},
   "outputs": [],
   "source": [
    "import numpy as np\n",
    "import matplotlib.pyplot as plt\n",
    "import pandas as pd\n",
    "import mystyle\n",
    "plt.style.use(mystyle.paper_style)\n",
    "\n",
    "from scipy.interpolate import CubicSpline\n",
    "from scipy.integrate import odeint\n",
    "from scipy.integrate import RK45\n",
    "from scipy.optimize import root\n",
    "from scipy.integrate import quad\n",
    "from mpl_toolkits.axes_grid1.inset_locator import zoomed_inset_axes \n",
    "from mpl_toolkits.axes_grid1.inset_locator import mark_inset\n",
    "from timeit import default_timer as timer"
   ]
  },
  {
   "cell_type": "markdown",
   "metadata": {},
   "source": [
    "## The potential"
   ]
  },
  {
   "cell_type": "code",
   "execution_count": 2,
   "metadata": {},
   "outputs": [],
   "source": [
    "def potential(phi):\n",
    "    if phi > phi_star:\n",
    "        return V_0 + A_plus*(phi - phi_star)\n",
    "    elif phi <= phi_star:\n",
    "        return V_0 + A_minus*(phi - phi_star)\n",
    "\n",
    "    \n",
    "def potential_dif(phi):\n",
    "    if phi > phi_star:\n",
    "        return A_plus\n",
    "    elif phi <= phi_star:\n",
    "        return A_minus\n",
    "\n",
    "def potential_ddif(phi):\n",
    "    return 0.\n",
    "\n",
    "def V_prime_by_V(phi):\n",
    "    if phi > phi_star:\n",
    "        return A_plus/(V_0 + A_plus*(phi - phi_star))\n",
    "    elif phi <= phi_star:\n",
    "        return A_minus/(V_0 + A_minus*(phi - phi_star))"
   ]
  },
  {
   "cell_type": "markdown",
   "metadata": {},
   "source": [
    "The parameters are shown such that the power spectrum peaks at $5 \\times 10^{-3}$"
   ]
  },
  {
   "cell_type": "code",
   "execution_count": 3,
   "metadata": {},
   "outputs": [],
   "source": [
    "pi_num = np.pi\n",
    "\n",
    "A_plus = 10**-14\n",
    "A_minus = A_plus*(10**-3)\n",
    "cmb_power_spectrum = 2*10**-9\n",
    "V_0 = (12*cmb_power_spectrum*(pi_num*A_plus)**2)**(1/3)\n",
    "H_0 = (V_0/3)**(1/2)"
   ]
  },
  {
   "cell_type": "markdown",
   "metadata": {},
   "source": [
    "# Background simulation\n",
    "Let's simulate background dynamics. Due to the transition, one either has to do a piece-wise simulation, or choose custom time steps. The later is done here."
   ]
  },
  {
   "cell_type": "markdown",
   "metadata": {},
   "source": [
    "Need to estimate the correct starting position to get $\\sim 20$ e-folds of slow roll before the transition."
   ]
  },
  {
   "cell_type": "code",
   "execution_count": 4,
   "metadata": {},
   "outputs": [],
   "source": [
    "from scipy.integrate import quad\n",
    "from scipy.optimize import root\n",
    "\n",
    "# This equations assume slow-roll throughout\n",
    "def slow_roll_N(phi_in, phi_end):\n",
    "    def integrand(phi):\n",
    "        return potential(phi)/potential_dif(phi)\n",
    "    N, _ = quad(integrand, phi_end, phi_in)\n",
    "    return N\n",
    "\n",
    "def root_find_phi_in(phi):\n",
    "    return slow_roll_N(phi, phi_star) - N_star\n",
    "\n",
    "phi_star = 1.\n",
    "N_star = 26.\n",
    "phi_in_guess = (A_plus/V_0)*N_star + phi_star\n",
    "sol_root = root(root_find_phi_in, phi_in_guess)\n",
    "phi_CMB_in = float(sol_root.x)"
   ]
  },
  {
   "cell_type": "markdown",
   "metadata": {},
   "source": [
    "Now define the equation of motion"
   ]
  },
  {
   "cell_type": "code",
   "execution_count": 5,
   "metadata": {},
   "outputs": [],
   "source": [
    "def klien_gordon(vec, N):\n",
    "    phi, pi = vec\n",
    "    dpi_by_dN = -(3 - 0.5*pi**2)*(pi + V_prime_by_V(phi))\n",
    "    return [pi, dpi_by_dN]"
   ]
  },
  {
   "cell_type": "markdown",
   "metadata": {},
   "source": [
    "Let's use slow roll at NLO to set the initial conditions with maximum accuracy."
   ]
  },
  {
   "cell_type": "code",
   "execution_count": 6,
   "metadata": {},
   "outputs": [],
   "source": [
    "def hubble_param_LO_1(phi):\n",
    "    return 0.5*(potential_dif(phi)/potential(phi))**2\n",
    "\n",
    "def hubble_param_LO_2(phi):\n",
    "    return 2*( (potential_dif(phi)/potential(phi))**2\\\n",
    "              - potential_ddif(phi)/potential(phi) )\n",
    "\n",
    "def hubble_param_NLO_1(phi):\n",
    "    return hubble_param_LO_1(phi)*(1 - hubble_param_LO_2(phi)/3)\n",
    "\n",
    "def dpi_by_dN_NLO(phi):\n",
    "    return -(2*hubble_param_NLO_1(phi))**0.5"
   ]
  },
  {
   "cell_type": "markdown",
   "metadata": {},
   "source": [
    "Now simulate the background"
   ]
  },
  {
   "cell_type": "code",
   "execution_count": 7,
   "metadata": {},
   "outputs": [],
   "source": [
    "N_values = np.linspace(0, N_star + 25, 800)\n",
    "N_values_detailed = np.linspace(N_star-2, N_star+6, 200)\n",
    "N_values_detailed = np.linspace(N_star-0.1, N_star+0.1, 50)\n",
    "N_values = np.concatenate((N_values, N_values_detailed))\n",
    "N_values = np.sort(N_values)\n",
    "\n",
    "phi_0 = phi_CMB_in\n",
    "dpi_by_dN_0 = dpi_by_dN_NLO(phi_0)\n",
    "initial_state = [phi_0, dpi_by_dN_0]\n",
    "sol = odeint(klien_gordon, initial_state, N_values)\n",
    "phi_values = sol[:, 0]\n",
    "phi_diff_values = sol[:, 1]\n",
    "phi_end_true = sol[-1, 0]\n",
    "N_end = N_values[-1]"
   ]
  },
  {
   "cell_type": "markdown",
   "metadata": {},
   "source": [
    "Now we have the general sim, now let's find when it should end and re-simulate, ending at that value."
   ]
  },
  {
   "cell_type": "code",
   "execution_count": 8,
   "metadata": {},
   "outputs": [],
   "source": [
    "def hubble_param_1_func(dpi_by_dN):\n",
    "    return (dpi_by_dN**2)/2 \n",
    "\n",
    "def hubble_func(phi, pi):\n",
    "    H_squared = 2*potential(phi)/(6-pi**2)\n",
    "    return H_squared**0.5\n",
    "\n",
    "def hubble_param_2_func(phi, pi):\n",
    "    epsilon_H = hubble_param_1_func(pi)\n",
    "    V_prime_by_V_value =  V_prime_by_V(phi)\n",
    "    return 2*epsilon_H - V_prime_by_V_value*(6-pi**2)/pi - 6"
   ]
  },
  {
   "cell_type": "code",
   "execution_count": 9,
   "metadata": {},
   "outputs": [],
   "source": [
    "def nu_sqaured_func(N):\n",
    "    epsilon2 = epsilon2_interpolation(N, 0)\n",
    "    epsilon1 = epsilon1_interpolation(N, 0)\n",
    "    epsilon2_derivative = epsilon2_interpolation(N, 1)\n",
    "    return 9/4 - epsilon1 + (3/2)*epsilon2 - (1/2)*epsilon1*epsilon2 + (epsilon2**2)/4\\\n",
    "        + epsilon2_derivative/2"
   ]
  },
  {
   "cell_type": "code",
   "execution_count": 10,
   "metadata": {},
   "outputs": [],
   "source": [
    "hubble_param_values = np.array([hubble_func(sol[i, 0], sol[i, 1]) for i in range(len(sol[:, 0]))])\n",
    "epsilon1_values = np.array([hubble_param_1_func(dpi_by_dN) for dpi_by_dN in sol[:, 1]])\n",
    "epsilon2_values = np.array([hubble_param_2_func(sol[i, 0], sol[i, 1]) for i in range(len(sol[:, 0]))])\n",
    "\n",
    "# interpolation\n",
    "hubble_param_interpolation = CubicSpline(N_values, hubble_param_values)\n",
    "epsilon1_interpolation = CubicSpline(N_values, epsilon1_values)\n",
    "epsilon2_interpolation = CubicSpline(N_values, epsilon2_values)"
   ]
  },
  {
   "cell_type": "code",
   "execution_count": 11,
   "metadata": {},
   "outputs": [],
   "source": [
    "nu_squared_values = np.array([nu_sqaured_func(N_values[i]) for i in range(len(N_values))])\n",
    "\n",
    "nu_squared_interpolation = CubicSpline(N_values, nu_squared_values)"
   ]
  },
  {
   "cell_type": "code",
   "execution_count": 12,
   "metadata": {},
   "outputs": [],
   "source": [
    "N_for_plotting_logic = (N_values>15) & (N_values<35)"
   ]
  },
  {
   "cell_type": "markdown",
   "metadata": {},
   "source": [
    "Now let's plot what the Hubble flow parameters and $\\nu^2$ is doing"
   ]
  },
  {
   "cell_type": "code",
   "execution_count": 13,
   "metadata": {},
   "outputs": [
    {
     "data": {
      "image/png": "[encoded data removed]",
      "text/plain": [
       "<Figure size 800x520 with 1 Axes>"
      ]
     },
     "metadata": {},
     "output_type": "display_data"
    },
    {
     "data": {
      "text/plain": [
       "<Figure size 800x520 with 0 Axes>"
      ]
     },
     "metadata": {},
     "output_type": "display_data"
    }
   ],
   "source": [
    "plt.plot(N_values[N_for_plotting_logic], np.log10(epsilon1_values[N_for_plotting_logic]),\n",
    "         label=r\"$\\log_{10}{(\\epsilon_{1})}$\")\n",
    "plt.plot(N_values[N_for_plotting_logic], epsilon2_values[N_for_plotting_logic], label=r\"$\\epsilon_{2}$\")\n",
    "plt.plot(N_values[N_for_plotting_logic], nu_squared_values[N_for_plotting_logic], label=r\"$\\nu^2$\")\n",
    "plt.xlabel(r\"$N$\")\n",
    "plt.ylim(top=8, bottom=-13)\n",
    "plt.legend(ncol=2)\n",
    "plt.show()\n",
    "plt.clf()"
   ]
  },
  {
   "cell_type": "markdown",
   "metadata": {},
   "source": [
    "**This is just for mostly demonstration. We will often use analytical expressions for the above curves for accuracy**"
   ]
  },
  {
   "cell_type": "markdown",
   "metadata": {},
   "source": [
    "While there is clearly a period of ultra-slow roll, what is its precise duration? Let's find out using standard root-finding techniques and interpolation."
   ]
  },
  {
   "cell_type": "code",
   "execution_count": 14,
   "metadata": {},
   "outputs": [],
   "source": [
    "def root_finding_epsilon2(N_guess, epsilon2_chosen=-3):\n",
    "    def epsilon2_value_diff(N_epsilon2_time):\n",
    "        return epsilon2_interpolation(N_epsilon2_time) - epsilon2_chosen\n",
    "    sol_epsilon2_time = root(epsilon2_value_diff, N_guess)\n",
    "    N_epsilon2_time = sol_epsilon2_time.x\n",
    "    return float(N_epsilon2_time)"
   ]
  },
  {
   "cell_type": "code",
   "execution_count": 15,
   "metadata": {},
   "outputs": [
    {
     "name": "stdout",
     "output_type": "stream",
     "text": [
      "Ultra-slow roll started at\n",
      "26.000001745817695\n",
      "and ended at\n",
      "28.302282891541452\n"
     ]
    }
   ],
   "source": [
    "N_usr_start_guess = N_values[epsilon2_values<-3][0]\n",
    "N_usr_end_guess = N_values[epsilon2_values<-3][-1]\n",
    "\n",
    "N_usr_start = root_finding_epsilon2(N_usr_start_guess)\n",
    "N_usr_end = root_finding_epsilon2(N_usr_end_guess)\n",
    "\n",
    "print(\"Ultra-slow roll started at\")\n",
    "print(N_usr_start)\n",
    "print(\"and ended at\")\n",
    "print(N_usr_end)"
   ]
  },
  {
   "cell_type": "markdown",
   "metadata": {},
   "source": [
    "### Now let's save this "
   ]
  },
  {
   "cell_type": "code",
   "execution_count": 16,
   "metadata": {},
   "outputs": [],
   "source": [
    "data_dict = {}\n",
    "data_dict[\"N\"] = N_values\n",
    "data_dict[\"phi\"] = phi_values\n",
    "data_dict[\"phi_N_diff\"] = phi_diff_values\n",
    "data_dict[\"H\"] = hubble_param_values\n",
    "data_dict[\"epsilon1\"] = epsilon1_values\n",
    "data_dict[\"epsilon2\"] = epsilon2_values\n",
    "data_dict[\"nu_squared\"] = nu_squared_values\n",
    "\n",
    "data_pandas = pd.DataFrame(data_dict)\n",
    "\n",
    "data_pandas.to_csv(\"piece_wise_linear_dynamics_dynamics\"+\".csv\")"
   ]
  },
  {
   "cell_type": "markdown",
   "metadata": {},
   "source": [
    "## Mode simulation\n",
    "\n",
    "To find the power spectrum, normally we need to be able to simulare a linear mode from deep inside the horizon until Hubble-crossing until the end of inflation. But due to the analytical nature of this model, we can solve the mode equation analoytically. "
   ]
  },
  {
   "cell_type": "code",
   "execution_count": 17,
   "metadata": {},
   "outputs": [],
   "source": [
    "def comoving_time_func(N_interest, N_end):\n",
    "    def comoving_time_integrand(N):\n",
    "        aH = aH_interpolation(N)\n",
    "        return 1/aH\n",
    "    comoving_time_value, _ = quad(comoving_time_integrand, N_end, N_interest, limit=1000)\n",
    "    return comoving_time_value"
   ]
  },
  {
   "cell_type": "markdown",
   "metadata": {},
   "source": [
    "## $\\delta \\phi_k$"
   ]
  },
  {
   "cell_type": "code",
   "execution_count": 18,
   "metadata": {},
   "outputs": [],
   "source": [
    "def analytical_delta_phi(N_interest, N_end, N_transition, A_plus, A_minus, k):\n",
    "    comoving_time = comoving_time_func(N_interest, N_end)\n",
    "    k_0 = aH_interpolation(N_transition)\n",
    "    a = a_interpolation(N_interest)\n",
    "    H0 = hubble_param_interpolation(N_interest)\n",
    "    aH = aH_interpolation(N_interest)\n",
    "    Delta_A = A_minus - A_plus\n",
    "    k_eta = k*comoving_time\n",
    "\n",
    "    if N_interest>N_transition:\n",
    "        alpha = 1. + complex(0, 1)*(3*Delta_A*k_0/(2*A_plus*k))*(1 + (k_0/k)**2)\n",
    "        beta = complex(0, -1)*(3*Delta_A*k_0/(2*A_plus*k))*np.exp(complex(0, 2*k/k_0))*(complex(1, k_0/k)**2)\n",
    "    else:\n",
    "        alpha = 1.\n",
    "        beta = 0.\n",
    "\n",
    "    term1 = complex(1, k_eta)*np.exp(complex(0, -k_eta))\n",
    "    term2 = complex(1, -k_eta)*np.exp(complex(0, k_eta))\n",
    "    k_term = complex(0, H0/(2*k**3)**0.5)\n",
    "\n",
    "    delta_phi = k_term*(alpha*term1 - beta*term2)\n",
    "    return delta_phi\n",
    "\n",
    "def analytical_delta_phi_N_derivative(N_interest, N_end, N_transition, A_plus, A_minus, k):\n",
    "    comoving_time = comoving_time_func(N_interest, N_end)\n",
    "    k_0 = aH_interpolation(N_transition)\n",
    "    a = a_interpolation(N_interest)\n",
    "    H0 = hubble_param_interpolation(N_interest)\n",
    "    epsilon = epsilon_interpolation(N_interest)\n",
    "    aH = aH_interpolation(N_interest)\n",
    "    Delta_A = A_minus - A_plus\n",
    "    k_eta = k*comoving_time\n",
    "\n",
    "    if N_interest>N_transition:\n",
    "        alpha = 1. + complex(0, 1)*(3*Delta_A*k_0/(2*A_plus*k))*(1 + (k_0/k)**2)\n",
    "        beta = complex(0, -1)*(3*Delta_A*k_0/(2*A_plus*k))*np.exp(complex(0, 2*k/k_0))*(complex(1, k_0/k)**2)\n",
    "    else:\n",
    "        alpha = 1.\n",
    "        beta = 0.\n",
    "\n",
    "    term1_deriv = (k**2)*comoving_time*np.exp(complex(0, -k_eta))\n",
    "    term2_deriv = (k**2)*comoving_time*np.exp(complex(0, k_eta))\n",
    "    k_term = complex(0, H0/(2*k**3)**0.5)\n",
    "\n",
    "\n",
    "    delta_phi_N_derivative = k_term*(alpha*term1_deriv - beta*term2_deriv)/aH\n",
    "    return delta_phi_N_derivative"
   ]
  },
  {
   "cell_type": "markdown",
   "metadata": {},
   "source": [
    "In fact it is more accurate to use the analytical expressions"
   ]
  },
  {
   "cell_type": "code",
   "execution_count": 19,
   "metadata": {},
   "outputs": [],
   "source": [
    "def analytical_epsilon_1(N_interest, N_end, N_transition, A_plus, A_minus):\n",
    "    H = hubble_param_interpolation(N_interest)\n",
    "    if N_interest<=N_transition:\n",
    "        epsilon_1 = (A_plus**2)/(18*(H**4))\n",
    "    elif N_interest>N_transition:\n",
    "        Delta_A = A_minus - A_plus\n",
    "        comoving_time = comoving_time_func(N_interest, N_end)\n",
    "        k_transition = aH_interpolation(N_transition)\n",
    "        epsilon_1 = ((Delta_A*(comoving_time*k_transition)**3 + A_minus)**2)/(18*(H**4))\n",
    "    return epsilon_1\n",
    "\n",
    "def analytical_epsilon_2(N_interest, N_end, N_transition, A_plus, A_minus):\n",
    "    H = hubble_param_interpolation(N_interest)\n",
    "    if N_interest<=N_transition:\n",
    "        epsilon_2 = 0.\n",
    "    elif N_interest>N_transition:\n",
    "        Delta_A = A_minus - A_plus\n",
    "        comoving_time = comoving_time_func(N_interest, N_end)\n",
    "        k_transition = aH_interpolation(N_transition)\n",
    "        epsilon_2 =\\\n",
    "            (-6*Delta_A*(comoving_time*k_transition)**3)/(Delta_A*(comoving_time*k_transition)**3 + A_minus)\n",
    "    return epsilon_2"
   ]
  },
  {
   "cell_type": "markdown",
   "metadata": {},
   "source": [
    "# Power spectrum\n",
    "Let us use the analytical formula to find the phase-space"
   ]
  },
  {
   "cell_type": "code",
   "execution_count": 20,
   "metadata": {},
   "outputs": [],
   "source": [
    "def power_spectrum_func(k, R):\n",
    "    return (np.abs(R)**2)*(k**3)/(2*np.pi**2)"
   ]
  },
  {
   "cell_type": "code",
   "execution_count": 21,
   "metadata": {},
   "outputs": [],
   "source": [
    "a_in = 1\n",
    "N_values_for_plot = np.linspace(N_star - np.log(4*10**3), N_star + np.log(4*10**3), 1000)\n",
    "N_eval = N_end-5  # This is to prevent a numerical accuracy error.\n",
    "\n",
    "power_specrum_values = np.zeros(len(N_values_for_plot))\n",
    "for j in range(len(N_values_for_plot)):\n",
    "    N_mode_exit = N_values_for_plot[j]\n",
    "    # Find when this mode left the horizon\n",
    "\n",
    "    aH_interpolation = CubicSpline(N_values, hubble_param_values*a_in*np.exp(N_values-N_mode_exit))\n",
    "    a_interpolation = CubicSpline(N_values, a_in*np.exp(N_values-N_mode_exit))\n",
    "\n",
    "    k = aH_interpolation(N_mode_exit)\n",
    "\n",
    "    delta_phi = analytical_delta_phi(N_eval, N_end, N_star, A_plus, A_minus, k)\n",
    "    R = delta_phi/np.sqrt(2*analytical_epsilon_1(N_eval, N_end, N_star, A_plus, A_minus))\n",
    "    power_specrum_values[j] = power_spectrum_func(k, R)"
   ]
  },
  {
   "cell_type": "code",
   "execution_count": 22,
   "metadata": {},
   "outputs": [],
   "source": [
    "aH_interpolation = CubicSpline(N_values, hubble_param_values*a_in*np.exp(N_values-N_star))\n",
    "\n",
    "k_values_plot_normalised = aH_interpolation(N_values_for_plot)/aH_interpolation(N_star)"
   ]
  },
  {
   "cell_type": "code",
   "execution_count": 23,
   "metadata": {},
   "outputs": [
    {
     "data": {
      "image/png": "[encoded data removed]",
      "text/plain": [
       "<Figure size 800x520 with 1 Axes>"
      ]
     },
     "metadata": {},
     "output_type": "display_data"
    },
    {
     "data": {
      "text/plain": [
       "<Figure size 800x520 with 0 Axes>"
      ]
     },
     "metadata": {},
     "output_type": "display_data"
    }
   ],
   "source": [
    "plt.plot(k_values_plot_normalised, power_specrum_values)\n",
    "plt.axvline(x=1, linestyle=\"dashed\", color=\"k\")\n",
    "plt.axvline(x=1000, linestyle=\"dashed\", color=\"k\", label=\"Modes simulated\")\n",
    "plt.axvline(x=aH_interpolation(N_usr_end)/aH_interpolation(N_star), linestyle=\"dotted\",\n",
    "            color=\"gray\", label=\"USR end\")\n",
    "plt.yscale(\"log\")\n",
    "plt.xscale(\"log\")\n",
    "plt.xlim(left=0.5*10**-3, right=2*10**3)\n",
    "plt.ylabel(r\"$\\mathcal{P}_\\mathcal{R}(k)$\")\n",
    "plt.xlabel(r\"$k/k_{\\rm T}$\")\n",
    "plt.legend()\n",
    "plt.show()\n",
    "plt.clf()"
   ]
  }
 ],
 "metadata": {
  "kernelspec": {
   "display_name": "Python 3 (ipykernel)",
   "language": "python",
   "name": "python3"
  },
  "language_info": {
   "codemirror_mode": {
    "name": "ipython",
    "version": 3
   },
   "file_extension": ".py",
   "mimetype": "text/x-python",
   "name": "python",
   "nbconvert_exporter": "python",
   "pygments_lexer": "ipython3",
   "version": "3.10.9"
  }
 },
 "nbformat": 4,
 "nbformat_minor": 4
}
